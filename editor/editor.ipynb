{
 "cells": [
  {
   "cell_type": "code",
   "execution_count": 2,
   "metadata": {},
   "outputs": [
    {
     "name": "stdout",
     "output_type": "stream",
     "text": [
      "Procesado: 3.jpg\n",
      "Procesado: 2.jpg\n",
      "Procesado: 9.jpg\n",
      "Procesado: 4.jpg\n",
      "Procesado: 6.jpg\n",
      "Procesado: 7.jpg\n",
      "Procesado: 8.jpg\n",
      "Procesado: 1.jpg\n",
      "Procesado: 5.jpg\n",
      "Procesado: 10.jpg\n"
     ]
    }
   ],
   "source": [
    "from rembg import remove\n",
    "from PIL import Image\n",
    "import os\n",
    "\n",
    "def remove_background(input_path, output_path):\n",
    "    input_image = Image.open(input_path)\n",
    "    output_image = remove(input_image)\n",
    "    output_image.save(output_path, format='PNG')\n",
    "\n",
    "if __name__ == \"__main__\":\n",
    "    input_folder = '../sources/images/JPGS'\n",
    "    output_folder = '../sources/images/JPGS/test/'\n",
    "\n",
    "    # Asegúrate de que la carpeta de salida existe\n",
    "    os.makedirs(output_folder, exist_ok=True)\n",
    "\n",
    "    for filename in os.listdir(input_folder):\n",
    "        if filename.endswith(('.png', '.jpg', '.jpeg')):\n",
    "            input_path = os.path.join(input_folder, filename)\n",
    "            output_path = os.path.join(output_folder, f\"no_bg_{filename.rsplit('.', 1)[0]}.png\")\n",
    "            remove_background(input_path, output_path)\n",
    "            print(f\"Procesado: {filename}\")\n"
   ]
  }
 ],
 "metadata": {
  "kernelspec": {
   "display_name": ".venv",
   "language": "python",
   "name": "python3"
  },
  "language_info": {
   "codemirror_mode": {
    "name": "ipython",
    "version": 3
   },
   "file_extension": ".py",
   "mimetype": "text/x-python",
   "name": "python",
   "nbconvert_exporter": "python",
   "pygments_lexer": "ipython3",
   "version": "3.11.2"
  }
 },
 "nbformat": 4,
 "nbformat_minor": 2
}
